{
 "cells": [
  {
   "cell_type": "markdown",
   "id": "6357a4bc-165e-4b7a-9f66-e264d06fb33d",
   "metadata": {},
   "source": [
    "# 1. Using the data provided in Bronchitis.csv generate a Linear Model, evaluate the model, and provide the evidence of the appropriateness of the model. The aim of the study was to define if the probability of having Bronchitis is influenced by smoking and/or pollution. The data are stored contains information on 212 participants."
   ]
  },
  {
   "cell_type": "code",
   "execution_count": 4,
   "id": "8cb46f25-12b6-4177-a410-54ceaf039a03",
   "metadata": {
    "tags": []
   },
   "outputs": [],
   "source": [
    "library(ggplot2)"
   ]
  },
  {
   "cell_type": "markdown",
   "id": "db2accc6-8d19-427e-9124-092185cdb0ff",
   "metadata": {},
   "source": [
    "loading library"
   ]
  },
  {
   "cell_type": "code",
   "execution_count": 6,
   "id": "dfaf7ffc-6c2d-4d28-80c4-ae2305215ca3",
   "metadata": {
    "tags": []
   },
   "outputs": [],
   "source": [
    "data <- read.csv('Bronchitis.csv')"
   ]
  },
  {
   "cell_type": "markdown",
   "id": "0d4ee256-bac3-4a52-83cc-bbbc708dad0c",
   "metadata": {},
   "source": [
    "read csv file and then print out sample of data to see if its read correctly"
   ]
  },
  {
   "cell_type": "code",
   "execution_count": 9,
   "id": "67fd724e-c2db-43c7-b45a-87c3547e0f02",
   "metadata": {
    "tags": []
   },
   "outputs": [
    {
     "data": {
      "text/html": [
       "<table class=\"dataframe\">\n",
       "<caption>A data.frame: 6 × 3</caption>\n",
       "<thead>\n",
       "\t<tr><th></th><th scope=col>bron</th><th scope=col>cigs</th><th scope=col>poll</th></tr>\n",
       "\t<tr><th></th><th scope=col>&lt;int&gt;</th><th scope=col>&lt;dbl&gt;</th><th scope=col>&lt;dbl&gt;</th></tr>\n",
       "</thead>\n",
       "<tbody>\n",
       "\t<tr><th scope=row>1</th><td>0</td><td>5.15</td><td>67.1</td></tr>\n",
       "\t<tr><th scope=row>2</th><td>1</td><td>0.00</td><td>66.9</td></tr>\n",
       "\t<tr><th scope=row>3</th><td>0</td><td>2.50</td><td>66.7</td></tr>\n",
       "\t<tr><th scope=row>4</th><td>0</td><td>1.75</td><td>65.8</td></tr>\n",
       "\t<tr><th scope=row>5</th><td>0</td><td>6.75</td><td>64.4</td></tr>\n",
       "\t<tr><th scope=row>6</th><td>0</td><td>0.00</td><td>64.4</td></tr>\n",
       "</tbody>\n",
       "</table>\n"
      ],
      "text/latex": [
       "A data.frame: 6 × 3\n",
       "\\begin{tabular}{r|lll}\n",
       "  & bron & cigs & poll\\\\\n",
       "  & <int> & <dbl> & <dbl>\\\\\n",
       "\\hline\n",
       "\t1 & 0 & 5.15 & 67.1\\\\\n",
       "\t2 & 1 & 0.00 & 66.9\\\\\n",
       "\t3 & 0 & 2.50 & 66.7\\\\\n",
       "\t4 & 0 & 1.75 & 65.8\\\\\n",
       "\t5 & 0 & 6.75 & 64.4\\\\\n",
       "\t6 & 0 & 0.00 & 64.4\\\\\n",
       "\\end{tabular}\n"
      ],
      "text/markdown": [
       "\n",
       "A data.frame: 6 × 3\n",
       "\n",
       "| <!--/--> | bron &lt;int&gt; | cigs &lt;dbl&gt; | poll &lt;dbl&gt; |\n",
       "|---|---|---|---|\n",
       "| 1 | 0 | 5.15 | 67.1 |\n",
       "| 2 | 1 | 0.00 | 66.9 |\n",
       "| 3 | 0 | 2.50 | 66.7 |\n",
       "| 4 | 0 | 1.75 | 65.8 |\n",
       "| 5 | 0 | 6.75 | 64.4 |\n",
       "| 6 | 0 | 0.00 | 64.4 |\n",
       "\n"
      ],
      "text/plain": [
       "  bron cigs poll\n",
       "1 0    5.15 67.1\n",
       "2 1    0.00 66.9\n",
       "3 0    2.50 66.7\n",
       "4 0    1.75 65.8\n",
       "5 0    6.75 64.4\n",
       "6 0    0.00 64.4"
      ]
     },
     "metadata": {},
     "output_type": "display_data"
    }
   ],
   "source": [
    "head(data)"
   ]
  },
  {
   "cell_type": "code",
   "execution_count": 11,
   "id": "b72bc867-0461-4b61-a132-1fd91f8b14e7",
   "metadata": {
    "tags": []
   },
   "outputs": [],
   "source": [
    "total_counts_of_bron <- table(data$bron)"
   ]
  },
  {
   "cell_type": "code",
   "execution_count": 13,
   "id": "95819996-7fb6-46bd-8e2d-d7a3b718ece8",
   "metadata": {
    "tags": []
   },
   "outputs": [
    {
     "name": "stdout",
     "output_type": "stream",
     "text": [
      "Total count of non-bronchitis cases 166 \n",
      "Total count of bronchitis cases: 46 \n"
     ]
    }
   ],
   "source": [
    "cat(\"Total count of non-bronchitis cases\", total_counts_of_bron[1], \"\\n\")\n",
    "cat(\"Total count of bronchitis cases:\", total_counts_of_bron[2], \"\\n\")"
   ]
  },
  {
   "cell_type": "markdown",
   "id": "a16ce3ed-6526-45be-9d3a-a2046bc8a5aa",
   "metadata": {},
   "source": [
    "I just wanted to see the total count of cases for bronchitis so I can just better understand the data that I was given. "
   ]
  },
  {
   "cell_type": "code",
   "execution_count": 16,
   "id": "9c2ac4f7-63c2-49ee-9a02-719869eef826",
   "metadata": {
    "tags": []
   },
   "outputs": [],
   "source": [
    "model <- glm(bron ~ cigs + poll, data = data, family = binomial)"
   ]
  },
  {
   "cell_type": "markdown",
   "id": "7b1f1d48-33ce-48da-bba0-c90755c309de",
   "metadata": {},
   "source": [
    "Using GLM function which is generalized linear model with family as binomial since output is true or false on bronchitis. Cigs and Polls are the explanatory variables"
   ]
  },
  {
   "cell_type": "code",
   "execution_count": 19,
   "id": "fb3f6ea0-3cff-45aa-a1b3-ef53db0e30f8",
   "metadata": {
    "tags": []
   },
   "outputs": [
    {
     "data": {
      "text/plain": [
       "\n",
       "Call:\n",
       "glm(formula = bron ~ cigs + poll, family = binomial, data = data)\n",
       "\n",
       "Coefficients:\n",
       "             Estimate Std. Error z value Pr(>|z|)    \n",
       "(Intercept) -10.08491    2.95100  -3.417 0.000632 ***\n",
       "cigs          0.21169    0.03813   5.552 2.83e-08 ***\n",
       "poll          0.13176    0.04895   2.692 0.007113 ** \n",
       "---\n",
       "Signif. codes:  0 ‘***’ 0.001 ‘**’ 0.01 ‘*’ 0.05 ‘.’ 0.1 ‘ ’ 1\n",
       "\n",
       "(Dispersion parameter for binomial family taken to be 1)\n",
       "\n",
       "    Null deviance: 221.78  on 211  degrees of freedom\n",
       "Residual deviance: 174.21  on 209  degrees of freedom\n",
       "AIC: 180.21\n",
       "\n",
       "Number of Fisher Scoring iterations: 5\n"
      ]
     },
     "metadata": {},
     "output_type": "display_data"
    }
   ],
   "source": [
    "summary(model)"
   ]
  },
  {
   "cell_type": "markdown",
   "id": "49d8f08f-a747-47f9-bd65-f849173695a6",
   "metadata": {},
   "source": [
    "# Summary\n",
    "Cigs and Pollution are highly significant since p value is either (p < 0.001 or p < .01). \n",
    "\n",
    "Cigs and poll have estimate that shows that every cig smokes per day, the log-odds of having bronchitis increases by .21169. Pollution is .1376. \n",
    "\n",
    "Residual deviance being lower than null deviance shows that cig and polls fit the data between than the model just being null. \n",
    "\n",
    "Based on everything Cigs and Poll are significant predictors of bronchitis"
   ]
  },
  {
   "cell_type": "markdown",
   "id": "475f0866-730b-4795-ae00-6b8c96cc51f8",
   "metadata": {},
   "source": [
    "I am not doing a fit reduced model since both my predictor variables are significant. "
   ]
  },
  {
   "cell_type": "code",
   "execution_count": 23,
   "id": "541c6e60-86ef-4d46-95a0-c6f9026f0f05",
   "metadata": {
    "tags": []
   },
   "outputs": [],
   "source": [
    "predicted_probabilities_bron <- predict(model, type = \"response\")"
   ]
  },
  {
   "cell_type": "markdown",
   "id": "b35a7c8c-bfc8-4757-b01c-e92c48422111",
   "metadata": {},
   "source": [
    "This will be predicted true or false for bronchitis. Its already trained in the output of true and false for bronchitis so this new line of code is going to make predictions on the data again and attempt to get the bron now without seeing it in the data."
   ]
  },
  {
   "cell_type": "code",
   "execution_count": 26,
   "id": "1006e9e1-74cf-4c36-9835-b7feb87cef8d",
   "metadata": {
    "tags": []
   },
   "outputs": [],
   "source": [
    "threshold <- 0.5\n",
    "predicted_classes <- ifelse(predicted_probabilities_bron > threshold, 1, 0)\n"
   ]
  },
  {
   "cell_type": "markdown",
   "id": "e631ad3c-9268-46e1-8c49-d9a06505464b",
   "metadata": {},
   "source": [
    "Every row is checked and giving a probability percentage and if its above or equal to 50 percent its true and if below its false. Predicted classes grabs from data already established and creates into another data.  "
   ]
  },
  {
   "cell_type": "code",
   "execution_count": 29,
   "id": "178d52fe-347d-48c5-8f8c-272c4c8a17f2",
   "metadata": {
    "tags": []
   },
   "outputs": [
    {
     "name": "stdout",
     "output_type": "stream",
     "text": [
      "         Actual\n",
      "Predicted   0   1\n",
      "        0 156  32\n",
      "        1  10  14\n"
     ]
    }
   ],
   "source": [
    "conf_matrix <- table(Predicted = predicted_classes, Actual = data$bron)\n",
    "print(conf_matrix)\n"
   ]
  },
  {
   "cell_type": "markdown",
   "id": "af51f581-7c92-4b10-9898-e55ee1c4972d",
   "metadata": {},
   "source": [
    "This will check my prediction dataset with actual dataset.  Checking true and false on both for comparison. Displayed is true negatives, true negatives, false positive and false negative. Output here shows 156 true negatives and 14 true positives. 170 correct predictions and 42 wrong predictions. "
   ]
  },
  {
   "cell_type": "code",
   "execution_count": 32,
   "id": "5f109873-ff78-4f05-b0ed-2ea1894f0efd",
   "metadata": {
    "tags": []
   },
   "outputs": [
    {
     "name": "stdout",
     "output_type": "stream",
     "text": [
      "[1] \"Accuracy percentage: 0.80188679245283\"\n"
     ]
    }
   ],
   "source": [
    "accuracy <- sum(diag(conf_matrix)) / sum(conf_matrix)\n",
    "print(paste(\"Accuracy percentage:\", accuracy))"
   ]
  },
  {
   "cell_type": "markdown",
   "id": "f4383622-0a5b-498f-b5b4-a5391557ae1d",
   "metadata": {},
   "source": [
    "170 / 210 = .80188  - 80 percent is a good percentage, however, more than half of true statements are false postives which dont seem good to me. "
   ]
  },
  {
   "cell_type": "code",
   "execution_count": 47,
   "id": "c59c12f6-01ba-4f5c-ba57-03dc79938e96",
   "metadata": {
    "tags": []
   },
   "outputs": [
    {
     "name": "stdout",
     "output_type": "stream",
     "text": [
      "\n",
      "The downloaded binary packages are in\n",
      "\t/var/folders/rd/jfxc79756t9g0g5f4ytyb6l40000gn/T//RtmpYbrr7l/downloaded_packages\n",
      "\n",
      "The downloaded binary packages are in\n",
      "\t/var/folders/rd/jfxc79756t9g0g5f4ytyb6l40000gn/T//RtmpYbrr7l/downloaded_packages\n"
     ]
    }
   ],
   "source": [
    "install.packages(\"lattice\")\n",
    "install.packages(\"caret\")"
   ]
  },
  {
   "cell_type": "code",
   "execution_count": 50,
   "id": "4bb4defd-6f7c-4825-a567-a723f9b5d89d",
   "metadata": {
    "tags": []
   },
   "outputs": [],
   "source": [
    "library(lattice)\n",
    "library(caret)\n"
   ]
  },
  {
   "cell_type": "code",
   "execution_count": 52,
   "id": "2c2cf14c-10c9-4543-a802-54914105e3d9",
   "metadata": {
    "tags": []
   },
   "outputs": [
    {
     "name": "stdout",
     "output_type": "stream",
     "text": [
      "Confusion Matrix and Statistics\n",
      "\n",
      "          Reference\n",
      "Prediction   0   1\n",
      "         0 156  32\n",
      "         1  10  14\n",
      "                                          \n",
      "               Accuracy : 0.8019          \n",
      "                 95% CI : (0.7418, 0.8533)\n",
      "    No Information Rate : 0.783           \n",
      "    P-Value [Acc > NIR] : 0.283466        \n",
      "                                          \n",
      "                  Kappa : 0.2951          \n",
      "                                          \n",
      " Mcnemar's Test P-Value : 0.001194        \n",
      "                                          \n",
      "            Sensitivity : 0.9398          \n",
      "            Specificity : 0.3043          \n",
      "         Pos Pred Value : 0.8298          \n",
      "         Neg Pred Value : 0.5833          \n",
      "             Prevalence : 0.7830          \n",
      "         Detection Rate : 0.7358          \n",
      "   Detection Prevalence : 0.8868          \n",
      "      Balanced Accuracy : 0.6221          \n",
      "                                          \n",
      "       'Positive' Class : 0               \n",
      "                                          \n"
     ]
    }
   ],
   "source": [
    "confusion_matrix <- confusionMatrix(as.factor(predicted_classes), as.factor(data$bron))\n",
    "print(confusion_matrix)"
   ]
  },
  {
   "cell_type": "markdown",
   "id": "f56e3d84-2cc8-4367-84e5-f5c38736f77f",
   "metadata": {},
   "source": [
    "95% Confidence rate is between 74 percent to 85 percent. My model is 80.19% and No information Rate is 78 percent. Which means model is slighty higher than NIR. NIR is going to predict only non bron cases. Model is slighty better \n",
    "\n",
    "Mcnemar's Test P-Value : 0.001194  False positive is 10 and false negative is 32 which means that their is a high imbalance between between false positives and false negatives. "
   ]
  },
  {
   "cell_type": "markdown",
   "id": "d7945a93-eede-4f4f-98ab-8a7d56a00c84",
   "metadata": {},
   "source": [
    "P - Value = .2834. Since this is higher than .05. I reject that my models accuracy is better than NIR.  "
   ]
  },
  {
   "cell_type": "markdown",
   "id": "1b94434f-b28b-463b-910b-19e3c38ba6f1",
   "metadata": {},
   "source": [
    " Kappa : 0.2951 = this is fair aggreement between models predictions are the actual claffications. Which means that our model is slightly better than chance.\n",
    " \n",
    " \n",
    "'Positive' Class : 0 = No Bron\n",
    "\n",
    "Sensitivity being .9398 means my model is very good at measuring the proportion of no bronchities cases which were correctly identified as not having bronchitis. \n",
    "\n",
    "Specificity being .3043 means my model is not good at identifying patients that do have bronchitis. \n",
    "\n",
    "positive predictions of no bron cases is .8298 and negative prediction is .5833. Appears my model is better at predicted no bron and is barely over 50 percent at predicting cases where their is bronchitis. This shows that my model is good at predicting no bron and not very good at bron. "
   ]
  },
  {
   "cell_type": "code",
   "execution_count": null,
   "id": "88cc38c9-15d5-4938-9b5d-25ed74254d02",
   "metadata": {},
   "outputs": [],
   "source": []
  },
  {
   "cell_type": "markdown",
   "id": "bf6b6877-dcdb-4a5b-bdf4-55baa3055e6d",
   "metadata": {},
   "source": [
    "Prevalence : 0.7830          \n",
    "Detection Rate : 0.7358          \n",
    "Detection Prevalence : 0.8868          \n",
    "Balanced Accuracy : 0.6221   \n",
    "\n",
    "78 percent of my cases are no bron. 73 percent of my data predicted was in fact no bron. 88 precent of my cases were predicted as no bron.  \n",
    "\n",
    "62 percent of balanced accuracy. This takes  Sensitivity : 0.9398 and Specificity : 0.3043 and divides this by 2. so it predicts 62 percent of true postive and negative cases of no bron. "
   ]
  },
  {
   "cell_type": "markdown",
   "id": "93b9a3f0-99ac-4e88-91d1-78e757ae7ffe",
   "metadata": {},
   "source": [
    "# 2. 25 students aspiring to enter to Computer Science have been evaluated on 5 different subjects: Differential Geometry (DifGeo), Complex Analysis (CompAn), Algebra (Alg), Real Analysis (RealAn) and Statistics (Stat).\n",
    "\n",
    "These were the obtained scores:\n",
    "ID DifGeo CompAn Alg RealAn Stat\n",
    "ST-01 36 58 43 36 37\n",
    "ST-02 62 54 50 46 52\n",
    "ST-03 31 42 41 40 29\n",
    "ST-04 76 78 69 66 81\n",
    "ST-05 46 56 52 56 40\n",
    "ST-06 12 42 38 38 28\n",
    "ST-07 39 46 51 54 41\n",
    "ST-08 30 51 54 52 32\n",
    "ST-09 22 32 43 28 22\n",
    "ST-10 9 40 47 30 24\n",
    "ST-11 32 49 54 37 52\n",
    "ST-12 40 62 51 40 49\n",
    "ST-13 64 75 70 66 63\n",
    "ST-14 36 38 58 62 62\n",
    "ST-15 24 46 44 55 49\n",
    "ST-16 50 50 54 52 51\n",
    "ST-17 42 42 52 38 50\n",
    "ST-18 2 35 32 22 16\n",
    "ST-19 56 53 42 40 32\n",
    "ST-20 59 72 70 66 62\n",
    "ST-21 28 50 50 42 63\n",
    "ST-22 19 46 49 40 30\n",
    "ST-23 36 56 56 54 52\n",
    "ST-24 54 57 59 62 58\n",
    "ST-25 14 35 38 29 20\n",
    "\n",
    "The objective of this study is to obtain a global ranking of students for entry into the Computer\n",
    "Science, through a global score, extracted as a certain linear combination of grades in the five\n",
    "subjects tested. Use PCA to obtain that global score, sort the candidates and generate a formula to\n",
    "evaluate future candidates. "
   ]
  },
  {
   "cell_type": "code",
   "execution_count": 81,
   "id": "a76dd24f-7334-47c6-8c1d-112e1c7b6824",
   "metadata": {
    "tags": []
   },
   "outputs": [
    {
     "name": "stdout",
     "output_type": "stream",
     "text": [
      "\n",
      "The downloaded binary packages are in\n",
      "\t/var/folders/rd/jfxc79756t9g0g5f4ytyb6l40000gn/T//RtmpYbrr7l/downloaded_packages\n"
     ]
    },
    {
     "name": "stderr",
     "output_type": "stream",
     "text": [
      "also installing the dependencies ‘credentials’, ‘zip’, ‘gitcreds’, ‘ini’, ‘httpuv’, ‘xtable’, ‘sourcetools’, ‘later’, ‘promises’, ‘diffobj’, ‘gert’, ‘gh’, ‘whisker’, ‘shiny’, ‘downlit’, ‘httr2’, ‘htmlwidgets’, ‘xopen’, ‘brio’, ‘praise’, ‘waldo’, ‘usethis’, ‘ellipsis’, ‘miniUI’, ‘pkgdown’, ‘profvis’, ‘rcmdcheck’, ‘rversions’, ‘sessioninfo’, ‘testthat’, ‘urlchecker’\n",
      "\n",
      "\n"
     ]
    },
    {
     "name": "stdout",
     "output_type": "stream",
     "text": [
      "\n",
      "The downloaded binary packages are in\n",
      "\t/var/folders/rd/jfxc79756t9g0g5f4ytyb6l40000gn/T//RtmpYbrr7l/downloaded_packages\n",
      "\n",
      "The downloaded binary packages are in\n",
      "\t/var/folders/rd/jfxc79756t9g0g5f4ytyb6l40000gn/T//RtmpYbrr7l/downloaded_packages\n",
      "\n",
      "The downloaded binary packages are in\n",
      "\t/var/folders/rd/jfxc79756t9g0g5f4ytyb6l40000gn/T//RtmpYbrr7l/downloaded_packages\n"
     ]
    }
   ],
   "source": [
    "install.packages(\"psych\")\n",
    "install.packages(\"devtools\")\n",
    "install.packages(\"GPArotation\")\n",
    "install.packages(\"ggbiplot\")\n"
   ]
  },
  {
   "cell_type": "code",
   "execution_count": 82,
   "id": "1092a4a5-ee0b-4442-b7d1-aa38a64e4e13",
   "metadata": {
    "tags": []
   },
   "outputs": [],
   "source": [
    "library(psych)"
   ]
  },
  {
   "cell_type": "code",
   "execution_count": 83,
   "id": "c65d20b2-ecd0-4fa8-a412-0df4c89d2811",
   "metadata": {
    "tags": []
   },
   "outputs": [
    {
     "name": "stderr",
     "output_type": "stream",
     "text": [
      "Loading required package: usethis\n",
      "\n",
      "\n",
      "Attaching package: ‘ggbiplot’\n",
      "\n",
      "\n",
      "The following object is masked from ‘package:psych’:\n",
      "\n",
      "    reflect\n",
      "\n",
      "\n"
     ]
    }
   ],
   "source": [
    "library(GPArotation)\n",
    "library(devtools)\n",
    "library(ggbiplot)"
   ]
  },
  {
   "cell_type": "code",
   "execution_count": 86,
   "id": "1e383069-ae6e-4612-bfe9-b578f24b8192",
   "metadata": {
    "tags": []
   },
   "outputs": [],
   "source": [
    "student_data <-read.csv('Student_scores.csv')"
   ]
  },
  {
   "cell_type": "code",
   "execution_count": 88,
   "id": "3e8dedb0-c49f-4220-8b99-7abed85dd696",
   "metadata": {
    "tags": []
   },
   "outputs": [
    {
     "name": "stdout",
     "output_type": "stream",
     "text": [
      "      ID DifGeo CompAn Alg RealAn Stat\n",
      "1  ST-01     36     58  43     36   37\n",
      "2  ST-02     62     54  50     46   52\n",
      "3  ST-03     31     42  41     40   29\n",
      "4  ST-04     76     78  69     66   81\n",
      "5  ST-05     46     56  52     56   40\n",
      "6  ST-06     12     42  38     38   28\n",
      "7  ST-07     39     46  51     54   41\n",
      "8  ST-08     30     51  54     52   32\n",
      "9  ST-09     22     32  43     28   22\n",
      "10 ST-10      9     40  47     30   24\n",
      "11 ST-11     32     49  54     37   52\n",
      "12 ST-12     40     62  51     40   49\n",
      "13 ST-13     64     75  70     66   63\n",
      "14 ST-14     36     38  58     62   62\n",
      "15 ST-15     24     46  44     55   49\n",
      "16 ST-16     50     50  54     52   51\n",
      "17 ST-17     42     42  52     38   50\n",
      "18 ST-18      2     35  32     22   16\n",
      "19 ST-19     56     53  42     40   32\n",
      "20 ST-20     59     72  70     66   62\n",
      "21 ST-21     28     50  50     42   63\n",
      "22 ST-22     19     46  49     40   30\n",
      "23 ST-23     36     56  56     54   52\n",
      "24 ST-24     54     57  59     62   58\n",
      "25 ST-25     14     35  38     29   20\n"
     ]
    }
   ],
   "source": [
    "print(student_data)"
   ]
  },
  {
   "cell_type": "markdown",
   "id": "ac74d3dd-8d59-43de-abf8-41e2c0c20651",
   "metadata": {},
   "source": [
    "I copied professors data and made it into a csv file. I printed the csv file to make sure that the data matched exactly with what he gave me in project."
   ]
  },
  {
   "cell_type": "markdown",
   "id": "01a955c4-c3b3-4004-870e-2ef0dd106934",
   "metadata": {},
   "source": [
    "The objective of this study is to obtain a global ranking of students for entry into the Computer\n",
    "Science, through a global score, extracted as a certain linear combination of grades in the five\n",
    "subjects tested. Use PCA to obtain that global score, sort the candidates and generate a formula to\n",
    "evaluate future candidates. "
   ]
  },
  {
   "cell_type": "code",
   "execution_count": 95,
   "id": "b38eca3c-fa4f-4574-899b-d6006ee9c08f",
   "metadata": {
    "tags": []
   },
   "outputs": [],
   "source": [
    "scaled_data <- scale(student_data[, 2:6])"
   ]
  },
  {
   "cell_type": "code",
   "execution_count": 97,
   "id": "c0392a17-cdd8-47e6-8ea2-83e56c5bf61d",
   "metadata": {
    "tags": []
   },
   "outputs": [
    {
     "name": "stdout",
     "output_type": "stream",
     "text": [
      "           DifGeo      CompAn         Alg       RealAn       Stat\n",
      " [1,] -0.04069508  0.61295337 -0.78632522 -0.777019343 -0.4118062\n",
      " [2,]  1.35150518  0.28162722 -0.06962255 -0.003095695  0.4965898\n",
      " [3,] -0.30842590 -0.71235122 -0.99109742 -0.467449884 -0.8962841\n",
      " [4,]  2.10115148  2.26958410  1.87571330  1.544751602  2.2528222\n",
      " [5,]  0.49476656  0.44729030  0.13514965  0.770827954 -0.2301270\n",
      " [6,] -1.32580302 -0.71235122 -1.29825571 -0.622234613 -0.9568438\n",
      " [7,]  0.11994341 -0.38102507  0.03276355  0.616043224 -0.1695673\n",
      " [8,] -0.36197207  0.03313261  0.33992184  0.461258494 -0.7146049\n",
      " [9,] -0.79034138 -1.54066658 -0.78632522 -1.396158262 -1.3202023\n",
      "[10,] -1.48644151 -0.87801429 -0.37678084 -1.241373532 -1.1990828\n",
      "[11,] -0.25487974 -0.13253046  0.33992184 -0.699626978  0.4965898\n",
      "[12,]  0.17348957  0.94427952  0.03276355 -0.467449884  0.3149106\n",
      "[13,]  1.45859751  2.02108949  1.97809939  1.544751602  1.1627469\n",
      "[14,] -0.04069508 -1.04367736  0.74946623  1.235182143  1.1021872\n",
      "[15,] -0.68324905 -0.38102507 -0.68393913  0.693435589  0.3149106\n",
      "[16,]  0.70895121 -0.04969892  0.33992184  0.461258494  0.4360301\n",
      "[17,]  0.28058190 -0.71235122  0.13514965 -0.622234613  0.3754704\n",
      "[18,] -1.86126466 -1.29217197 -1.91257229 -1.860512451 -1.6835607\n",
      "[19,]  1.03022820  0.19879569 -0.88871132 -0.467449884 -0.7146049\n",
      "[20,]  1.19086669  1.77259488  1.97809939  1.544751602  1.1021872\n",
      "[21,] -0.46906440 -0.04969892 -0.06962255 -0.312665154  1.1627469\n",
      "[22,] -0.95097987 -0.38102507 -0.17200864 -0.467449884 -0.8357244\n",
      "[23,] -0.04069508  0.44729030  0.54469404  0.616043224  0.4965898\n",
      "[24,]  0.92313587  0.53012183  0.85185233  1.235182143  0.8599483\n",
      "[25,] -1.21871069 -1.29217197 -1.29825571 -1.318765897 -1.4413217\n",
      "attr(,\"scaled:center\")\n",
      "DifGeo CompAn    Alg RealAn   Stat \n",
      " 36.76  50.60  50.68  46.04  43.80 \n",
      "attr(,\"scaled:scale\")\n",
      "   DifGeo    CompAn       Alg    RealAn      Stat \n",
      "18.675474 12.072696  9.766951 12.921171 16.512621 \n"
     ]
    }
   ],
   "source": [
    "print(scaled_data)"
   ]
  },
  {
   "cell_type": "markdown",
   "id": "87f11670-7754-42a1-8eb0-9386ea06989e",
   "metadata": {},
   "source": [
    "scaled center is mean scores of each subject and scaled scale is standard deviation of each subject. scaled each variable with its number minus mean divided by standard deviation for this output. "
   ]
  },
  {
   "cell_type": "code",
   "execution_count": 125,
   "id": "1d406cc7-28e1-4adc-8f73-77637a562d24",
   "metadata": {
    "tags": []
   },
   "outputs": [
    {
     "name": "stdout",
     "output_type": "stream",
     "text": [
      "Parallel analysis suggests that the number of factors =  NA  and the number of components =  1 \n"
     ]
    },
    {
     "data": {
      "image/png": "[encoded data removed]",
      "text/plain": [
       "Plot with title “Scree plot with parallel analysis”"
      ]
     },
     "metadata": {
      "image/png": {
       "height": 420,
       "width": 420
      }
     },
     "output_type": "display_data"
    }
   ],
   "source": [
    "fa.parallel(scaled_data, fa=\"pc\", n.iter=100,\n",
    "show.legend=FALSE, main=\"Scree plot with parallel analysis\")"
   ]
  },
  {
   "cell_type": "markdown",
   "id": "9f21d81c-5ee8-4f7f-8187-5deddbd4bf5f",
   "metadata": {},
   "source": [
    "based on this output we can have 1 pca that has all variables inside of it"
   ]
  },
  {
   "cell_type": "code",
   "execution_count": 128,
   "id": "3bf2bc19-7b6f-4a32-a8ef-06211f1993f4",
   "metadata": {
    "tags": []
   },
   "outputs": [],
   "source": [
    "pc <- principal(scaled_data, nfactors = 1, rotate = \"none\", scores = TRUE)\n"
   ]
  },
  {
   "cell_type": "code",
   "execution_count": 130,
   "id": "924629ac-0066-4d3f-aff7-178d5f1ad822",
   "metadata": {
    "tags": []
   },
   "outputs": [
    {
     "name": "stdout",
     "output_type": "stream",
     "text": [
      "Principal Components Analysis\n",
      "Call: principal(r = scaled_data, nfactors = 1, rotate = \"none\", scores = TRUE)\n",
      "Standardized loadings (pattern matrix) based upon correlation matrix\n",
      "        PC1   h2   u2 com\n",
      "DifGeo 0.90 0.80 0.20   1\n",
      "CompAn 0.88 0.78 0.22   1\n",
      "Alg    0.93 0.87 0.13   1\n",
      "RealAn 0.90 0.81 0.19   1\n",
      "Stat   0.91 0.82 0.18   1\n",
      "\n",
      "                PC1\n",
      "SS loadings    4.08\n",
      "Proportion Var 0.82\n",
      "\n",
      "Mean item complexity =  1\n",
      "Test of the hypothesis that 1 component is sufficient.\n",
      "\n",
      "The root mean square of the residuals (RMSR) is  0.06 \n",
      " with the empirical chi square  1.76  with prob <  0.88 \n",
      "\n",
      "Fit based upon off diagonal values = 0.99"
     ]
    }
   ],
   "source": [
    "print(pc)"
   ]
  },
  {
   "cell_type": "markdown",
   "id": "6e0bcbdb-c84c-4288-ae5e-586bd2d3ef13",
   "metadata": {},
   "source": [
    "For all 5 subjects their is a low of 88$ to max 93% of variance explained by PC1. All variables have high loadings on PC1 and a large majority of variable is captured. This is really good\n",
    "\n",
    "Each subject has its variance explained with low of 78(CompAn) and high of 87(Alg). PC1 is able to explain a higher percentage of variance for each subject. U2 is uniqueness which cannot be explained by PC1. U2 is between 12 to 22 which is low compared to H2. \n",
    "\n"
   ]
  },
  {
   "cell_type": "markdown",
   "id": "7cd0480e-94b8-4fef-b71c-06bc0ab6353a",
   "metadata": {},
   "source": [
    "Proportion Var 0.82 - This shows that PC1 can explain 82 % of the total variance in the data which is very good. For mean item complexity being 1 means 1 PC variable is all that is needed to explain the data variance"
   ]
  },
  {
   "cell_type": "markdown",
   "id": "2c4b24d8-e790-4687-9fee-8fe60683e9fd",
   "metadata": {},
   "source": [
    "P-value at .88 means ensures that all we need is one component. For .99 means that the fit is very well for our model. "
   ]
  },
  {
   "cell_type": "code",
   "execution_count": 141,
   "id": "5714c853-fa9b-440e-ad56-261e6eda52c5",
   "metadata": {
    "tags": []
   },
   "outputs": [
    {
     "name": "stdout",
     "output_type": "stream",
     "text": [
      "      ID         PC1\n",
      "1  ST-01 -0.31879609\n",
      "2  ST-02  0.45137096\n",
      "3  ST-03 -0.75039772\n",
      "4  ST-04  2.22142461\n",
      "5  ST-05  0.35462102\n",
      "6  ST-06 -1.09146683\n",
      "7  ST-07  0.04933900\n",
      "8  ST-08 -0.05200547\n",
      "9  ST-09 -1.28703540\n",
      "10 ST-10 -1.14201585\n",
      "11 ST-11 -0.05041742\n",
      "12 ST-12  0.21679834\n",
      "13 ST-13  1.80765851\n",
      "14 ST-14  0.45378434\n",
      "15 ST-15 -0.16602559\n",
      "16 ST-16  0.42106246\n",
      "17 ST-17 -0.11489416\n",
      "18 ST-18 -1.90885876\n",
      "19 ST-19 -0.19583666\n",
      "20 ST-20  1.68171966\n",
      "21 ST-21  0.06015555\n",
      "22 ST-22 -0.61913997\n",
      "23 ST-23  0.45825051\n",
      "24 ST-24  0.97499632\n",
      "25 ST-25 -1.45429134\n"
     ]
    }
   ],
   "source": [
    "student_scores_final <- pc$scores\n",
    "student_scores_dataframe <- data.frame(ID = student_data$ID, Score = student_scores_final)\n",
    "print(student_scores_dataframe)"
   ]
  },
  {
   "cell_type": "markdown",
   "id": "8434f7bd-8872-4e5b-94c7-82d22418bc86",
   "metadata": {},
   "source": [
    "This grabs the pc scores and places a formula that will get each student individual total score. Then the score is placed in a dataframe and outputed so we can see it. "
   ]
  },
  {
   "cell_type": "markdown",
   "id": "3f6ae708-4900-4e08-8994-0314d93aa1ed",
   "metadata": {},
   "source": [
    "# Formula for future students\n",
    "(DifGeo): 0.90\n",
    "(CompAn): 0.88\n",
    "(Alg): 0.93\n",
    "(RealAn): 0.90\n",
    "(Stat): 0.91\n",
    "PCA Results above\n",
    "\n",
    "Standardize the scores of initial variables from students to get second part of formula which is for example Z DifGeo etc. \n",
    "PCA Score for students =0.90⋅Z DifGeo +0.88⋅Z CompAn +0.93⋅Z Alg +0.90⋅Z RealAn +0.91⋅Z Stat"
   ]
  },
  {
   "cell_type": "code",
   "execution_count": 150,
   "id": "f7b94e9a-610f-4463-b044-02362131605a",
   "metadata": {
    "tags": []
   },
   "outputs": [
    {
     "name": "stdout",
     "output_type": "stream",
     "text": [
      "      ID         PC1\n",
      "4  ST-04  2.22142461\n",
      "13 ST-13  1.80765851\n",
      "20 ST-20  1.68171966\n",
      "24 ST-24  0.97499632\n",
      "23 ST-23  0.45825051\n",
      "14 ST-14  0.45378434\n",
      "2  ST-02  0.45137096\n",
      "16 ST-16  0.42106246\n",
      "5  ST-05  0.35462102\n",
      "12 ST-12  0.21679834\n",
      "21 ST-21  0.06015555\n",
      "7  ST-07  0.04933900\n",
      "11 ST-11 -0.05041742\n",
      "8  ST-08 -0.05200547\n",
      "17 ST-17 -0.11489416\n",
      "15 ST-15 -0.16602559\n",
      "19 ST-19 -0.19583666\n",
      "1  ST-01 -0.31879609\n",
      "22 ST-22 -0.61913997\n",
      "3  ST-03 -0.75039772\n",
      "6  ST-06 -1.09146683\n",
      "10 ST-10 -1.14201585\n",
      "9  ST-09 -1.28703540\n",
      "25 ST-25 -1.45429134\n",
      "18 ST-18 -1.90885876\n"
     ]
    }
   ],
   "source": [
    "ranked_students_final <- student_scores_dataframe[order(-student_scores_dataframe$PC1),]\n",
    "print(ranked_students_final)"
   ]
  },
  {
   "cell_type": "markdown",
   "id": "d3a0f1e2-1e03-4aae-b109-0a050df600ab",
   "metadata": {},
   "source": [
    "Students are now ranked and student 4 and 13 are top students. The higher the score the higher the rank of the student is. You do the formula above to get each individual student score and then you rank them by highest to lowest."
   ]
  },
  {
   "cell_type": "markdown",
   "id": "d3c0d5cd-a6bf-458f-ba64-7bc567676e5c",
   "metadata": {
    "tags": []
   },
   "source": [
    " # 3.\n",
    " The following sample of a random vector (X, Y) has been obtained: (-3,7), (1,4), (0,6), (3,5),\n",
    "(1,9), (7,7), (6,9), (8,10), (7,12), (10,11).\n",
    "a. Perform a principal component analysis and a Regression on this sample.\n",
    "b. Represent a scatter plot, together with the first principal component and the regression\n",
    "line."
   ]
  },
  {
   "cell_type": "code",
   "execution_count": 155,
   "id": "26b23052-e5db-4d5f-95da-3190a008ce88",
   "metadata": {
    "tags": []
   },
   "outputs": [
    {
     "name": "stdout",
     "output_type": "stream",
     "text": [
      "    X  Y\n",
      "1  -3  7\n",
      "2   1  4\n",
      "3   0  6\n",
      "4   3  5\n",
      "5   1  9\n",
      "6   7  7\n",
      "7   6  9\n",
      "8   8 10\n",
      "9   7 12\n",
      "10 10 11\n"
     ]
    }
   ],
   "source": [
    "vector_data <- data.frame(\n",
    "    X = c(-3, 1, 0, 3, 1, 7, 6, 8, 7, 10),\n",
    "  Y = c(7, 4, 6, 5, 9, 7, 9, 10, 12, 11)\n",
    ")\n",
    "print(vector_data)"
   ]
  },
  {
   "cell_type": "markdown",
   "id": "42957a0b-5d04-4139-a5fa-c9625b52d514",
   "metadata": {},
   "source": [
    "instead of creating csv like other data in other two questions, here i just put the data in a dataframe called vector_data and I print output to make sure it matches professors data. "
   ]
  },
  {
   "cell_type": "code",
   "execution_count": 161,
   "id": "64b76e75-cb83-4beb-a4e0-21c5f6227c2d",
   "metadata": {
    "tags": []
   },
   "outputs": [
    {
     "data": {
      "text/plain": [
       "Importance of components:\n",
       "                          PC1    PC2\n",
       "Standard deviation     1.2832 0.5944\n",
       "Proportion of Variance 0.8233 0.1767\n",
       "Cumulative Proportion  0.8233 1.0000"
      ]
     },
     "metadata": {},
     "output_type": "display_data"
    },
    {
     "name": "stdout",
     "output_type": "stream",
     "text": [
      "Standard deviations (1, .., p=2):\n",
      "[1] 1.2832107 0.5944497\n",
      "\n",
      "Rotation (n x k) = (2 x 2):\n",
      "        PC1        PC2\n",
      "X 0.7071068 -0.7071068\n",
      "Y 0.7071068  0.7071068\n"
     ]
    }
   ],
   "source": [
    "pca <- prcomp(vector_data, scale. = TRUE)\n",
    "summary(pca)\n",
    "print(pca)"
   ]
  },
  {
   "cell_type": "markdown",
   "id": "9fc5371f-a101-4610-ba7b-2e1493ea484f",
   "metadata": {},
   "source": [
    "Standard deviation of PC1 indicates to me that more varaince is captured compared to PC2. \n",
    "\n",
    "PC1 accounts for 82.33% of the variance in the data while PC2 captures the rest of the data which is 17.67%. Both together equal 100.\n",
    "\n",
    "Rotation (n x k) = (2 x 2):\n",
    "        PC1        PC2\n",
    "X 0.7071068 -0.7071068\n",
    "Y 0.7071068  0.7071068\n",
    "\n",
    "This will be for the visual of our data points. The variables in original dataframe will be scaled and then with PC1(X,Y) and PC2(X,Y) shown in rotation above will use a formula to output data to visualize.\n",
    "\n",
    "# Formula\n",
    "PC1 = 0.7071 * 𝑋 + 0.7071 * 𝑌\n",
    "PC2 = -0.7071 * 𝑋 + 0.7071 * 𝑌\n",
    "\n",
    "X and Y are scaled from original dataset variables.\n",
    " \n"
   ]
  },
  {
   "cell_type": "code",
   "execution_count": 167,
   "id": "1e6ca249-bec8-4f32-8dee-e2629dce36d0",
   "metadata": {
    "tags": []
   },
   "outputs": [
    {
     "data": {
      "text/plain": [
       "\n",
       "Call:\n",
       "lm(formula = Y ~ X, data = vector_data)\n",
       "\n",
       "Residuals:\n",
       "    Min      1Q  Median      3Q     Max \n",
       "-2.7848 -1.7563  0.2848  1.5190  2.7848 \n",
       "\n",
       "Coefficients:\n",
       "            Estimate Std. Error t value Pr(>|t|)    \n",
       "(Intercept)   6.3797     0.9527   6.697 0.000153 ***\n",
       "X             0.4051     0.1689   2.398 0.043335 *  \n",
       "---\n",
       "Signif. codes:  0 ‘***’ 0.001 ‘**’ 0.01 ‘*’ 0.05 ‘.’ 0.1 ‘ ’ 1\n",
       "\n",
       "Residual standard error: 2.124 on 8 degrees of freedom\n",
       "Multiple R-squared:  0.4181,\tAdjusted R-squared:  0.3454 \n",
       "F-statistic: 5.749 on 1 and 8 DF,  p-value: 0.04333\n"
      ]
     },
     "metadata": {},
     "output_type": "display_data"
    }
   ],
   "source": [
    "reg_model <- lm(Y ~ X, data = vector_data)\n",
    "summary(reg_model)"
   ]
  },
  {
   "cell_type": "markdown",
   "id": "b466bac9-bab1-482d-b89e-407350f18111",
   "metadata": {},
   "source": [
    "Doing regression formula on y onto x. Y is dependent variable and X is independent variable. \n",
    "\n",
    "Intercept is highly significant to Y. X has moderate significance to Y. Both based on p-values. Null hypothesis cant be rejected on both since their is evidence of significance.\n",
    "\n",
    "8 degrees of freedom which is small. Error is at 2.124. 41.81 percent of variance in Y can be explained by model. Adjusted R-squared is even lower. \n",
    "\n",
    "The p-value of .04333 is less than .05 which shows the model is decent fit. "
   ]
  },
  {
   "cell_type": "code",
   "execution_count": 177,
   "id": "2a77afe8-fe9d-462b-8fcf-580e176b2f24",
   "metadata": {
    "tags": []
   },
   "outputs": [
    {
     "name": "stdout",
     "output_type": "stream",
     "text": [
      "    X  Y        PC1         PC2\n",
      "1  -3  7 -1.4507502  0.91193434\n",
      "2   1  4 -1.5839214 -0.57134226\n",
      "3   0  6 -1.2138686  0.13623683\n",
      "4   3  5 -0.9769870 -0.63946067\n",
      "5   1  9 -0.2368816  0.77569751\n",
      "6   7  7  0.2368816 -0.77569751\n",
      "7   6  9  0.6069343 -0.06811842\n",
      "8   8 10  1.2138686 -0.13623683\n",
      "9   7 12  1.5839214  0.57134226\n",
      "10 10 11  1.8208030 -0.20435525\n"
     ]
    },
    {
     "data": {
      "image/png": "[encoded data removed]",
      "text/plain": [
       "plot without title"
      ]
     },
     "metadata": {
      "image/png": {
       "height": 420,
       "width": 420
      }
     },
     "output_type": "display_data"
    }
   ],
   "source": [
    "\n",
    "ggplot(vector_data, aes(x = X, y = Y)) +\n",
    "  geom_point() +\n",
    "  geom_abline(intercept = reg_model$coefficients[1], slope = reg_model$coefficients[2], color = \"blue\", linetype = \"dashed\", linewidth = 1, alpha = 0.7) +\n",
    "  geom_abline(intercept = 0, slope = pca$rotation[2,1] / pca$rotation[1,1], color = \"red\", linewidth = 1, alpha = 0.7) +\n",
    "  labs(title = \"Scatter Plot with First Principal Component(PCA) and Regression Line\",\n",
    "       x = \"X\",\n",
    "       y = \"Y\") +\n",
    "  theme_minimal()\n",
    "\n",
    "vector_data$PC1 <- pca$x[,1]\n",
    "vector_data$PC2 <- pca$x[,2]\n",
    "print(vector_data)"
   ]
  },
  {
   "cell_type": "markdown",
   "id": "6ae7aed5-50ba-4de2-9882-e8bc37a8b674",
   "metadata": {},
   "source": [
    "Blue line is regression line which is fitted to minimize predicition erros for Y based on X . Red line which is PC1 captures morst of all the variance in combining X and Y. Regressions line appears to be more stable but its off since variance is very different. However, PC1 line is similiar but their more similiar variance at very top. "
   ]
  }
 ],
 "metadata": {
  "kernelspec": {
   "display_name": "R",
   "language": "R",
   "name": "ir"
  },
  "language_info": {
   "codemirror_mode": "r",
   "file_extension": ".r",
   "mimetype": "text/x-r-source",
   "name": "R",
   "pygments_lexer": "r",
   "version": "4.4.0"
  }
 },
 "nbformat": 4,
 "nbformat_minor": 5
}
