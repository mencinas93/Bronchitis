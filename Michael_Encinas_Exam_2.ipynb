{
 "cells": [
  {
   "cell_type": "markdown",
   "id": "6357a4bc-165e-4b7a-9f66-e264d06fb33d",
   "metadata": {},
   "source": [
    "# 1. Using the data provided in Bronchitis.csv generate a Linear Model, evaluate the model, and provide the evidence of the appropriateness of the model. The aim of the study was to define if the probability of having Bronchitis is influenced by smoking and/or pollution. The data are stored contains information on 212 participants."
   ]
  },
  {
   "cell_type": "code",
   "execution_count": 4,
   "id": "8cb46f25-12b6-4177-a410-54ceaf039a03",
   "metadata": {
    "tags": []
   },
   "outputs": [],
   "source": [
    "library(ggplot2)"
   ]
  },
  {
   "cell_type": "markdown",
   "id": "db2accc6-8d19-427e-9124-092185cdb0ff",
   "metadata": {},
   "source": [
    "loading library"
   ]
  },
  {
   "cell_type": "code",
   "execution_count": 6,
   "id": "dfaf7ffc-6c2d-4d28-80c4-ae2305215ca3",
   "metadata": {
    "tags": []
   },
   "outputs": [],
   "source": [
    "data <- read.csv('Bronchitis.csv')"
   ]
  },
  {
   "cell_type": "markdown",
   "id": "0d4ee256-bac3-4a52-83cc-bbbc708dad0c",
   "metadata": {},
   "source": [
    "read csv file and then print out sample of data to see if its read correctly"
   ]
  },
  {
   "cell_type": "code",
   "execution_count": 9,
   "id": "67fd724e-c2db-43c7-b45a-87c3547e0f02",
   "metadata": {
    "tags": []
   },
   "outputs": [
    {
     "data": {
      "text/html": [
       "<table class=\"dataframe\">\n",
       "<caption>A data.frame: 6 × 3</caption>\n",
       "<thead>\n",
       "\t<tr><th></th><th scope=col>bron</th><th scope=col>cigs</th><th scope=col>poll</th></tr>\n",
       "\t<tr><th></th><th scope=col>&lt;int&gt;</th><th scope=col>&lt;dbl&gt;</th><th scope=col>&lt;dbl&gt;</th></tr>\n",
       "</thead>\n",
       "<tbody>\n",
       "\t<tr><th scope=row>1</th><td>0</td><td>5.15</td><td>67.1</td></tr>\n",
       "\t<tr><th scope=row>2</th><td>1</td><td>0.00</td><td>66.9</td></tr>\n",
       "\t<tr><th scope=row>3</th><td>0</td><td>2.50</td><td>66.7</td></tr>\n",
       "\t<tr><th scope=row>4</th><td>0</td><td>1.75</td><td>65.8</td></tr>\n",
       "\t<tr><th scope=row>5</th><td>0</td><td>6.75</td><td>64.4</td></tr>\n",
       "\t<tr><th scope=row>6</th><td>0</td><td>0.00</td><td>64.4</td></tr>\n",
       "</tbody>\n",
       "</table>\n"
      ],
      "text/latex": [
       "A data.frame: 6 × 3\n",
       "\\begin{tabular}{r|lll}\n",
       "  & bron & cigs & poll\\\\\n",
       "  & <int> & <dbl> & <dbl>\\\\\n",
       "\\hline\n",
       "\t1 & 0 & 5.15 & 67.1\\\\\n",
       "\t2 & 1 & 0.00 & 66.9\\\\\n",
       "\t3 & 0 & 2.50 & 66.7\\\\\n",
       "\t4 & 0 & 1.75 & 65.8\\\\\n",
       "\t5 & 0 & 6.75 & 64.4\\\\\n",
       "\t6 & 0 & 0.00 & 64.4\\\\\n",
       "\\end{tabular}\n"
      ],
      "text/markdown": [
       "\n",
       "A data.frame: 6 × 3\n",
       "\n",
       "| <!--/--> | bron &lt;int&gt; | cigs &lt;dbl&gt; | poll &lt;dbl&gt; |\n",
       "|---|---|---|---|\n",
       "| 1 | 0 | 5.15 | 67.1 |\n",
       "| 2 | 1 | 0.00 | 66.9 |\n",
       "| 3 | 0 | 2.50 | 66.7 |\n",
       "| 4 | 0 | 1.75 | 65.8 |\n",
       "| 5 | 0 | 6.75 | 64.4 |\n",
       "| 6 | 0 | 0.00 | 64.4 |\n",
       "\n"
      ],
      "text/plain": [
       "  bron cigs poll\n",
       "1 0    5.15 67.1\n",
       "2 1    0.00 66.9\n",
       "3 0    2.50 66.7\n",
       "4 0    1.75 65.8\n",
       "5 0    6.75 64.4\n",
       "6 0    0.00 64.4"
      ]
     },
     "metadata": {},
     "output_type": "display_data"
    }
   ],
   "source": [
    "head(data)"
   ]
  },
  {
   "cell_type": "code",
   "execution_count": 11,
   "id": "b72bc867-0461-4b61-a132-1fd91f8b14e7",
   "metadata": {
    "tags": []
   },
   "outputs": [],
   "source": [
    "total_counts_of_bron <- table(data$bron)"
   ]
  },
  {
   "cell_type": "code",
   "execution_count": 13,
   "id": "95819996-7fb6-46bd-8e2d-d7a3b718ece8",
   "metadata": {
    "tags": []
   },
   "outputs": [
    {
     "name": "stdout",
     "output_type": "stream",
     "text": [
      "Total count of non-bronchitis cases 166 \n",
      "Total count of bronchitis cases: 46 \n"
     ]
    }
   ],
   "source": [
    "cat(\"Total count of non-bronchitis cases\", total_counts_of_bron[1], \"\\n\")\n",
    "cat(\"Total count of bronchitis cases:\", total_counts_of_bron[2], \"\\n\")"
   ]
  },
  {
   "cell_type": "markdown",
   "id": "a16ce3ed-6526-45be-9d3a-a2046bc8a5aa",
   "metadata": {},
   "source": [
    "I just wanted to see the total count of cases for bronchitis so I can just better understand the data that I was given. "
   ]
  },
  {
   "cell_type": "code",
   "execution_count": 16,
   "id": "9c2ac4f7-63c2-49ee-9a02-719869eef826",
   "metadata": {
    "tags": []
   },
   "outputs": [],
   "source": [
    "model <- glm(bron ~ cigs + poll, data = data, family = binomial)"
   ]
  },
  {
   "cell_type": "markdown",
   "id": "7b1f1d48-33ce-48da-bba0-c90755c309de",
   "metadata": {},
   "source": [
    "Using GLM function which is generalized linear model with family as binomial since output is true or false on bronchitis. Cigs and Polls are the explanatory variables"
   ]
  },
  {
   "cell_type": "code",
   "execution_count": 19,
   "id": "fb3f6ea0-3cff-45aa-a1b3-ef53db0e30f8",
   "metadata": {
    "tags": []
   },
   "outputs": [
    {
     "data": {
      "text/plain": [
       "\n",
       "Call:\n",
       "glm(formula = bron ~ cigs + poll, family = binomial, data = data)\n",
       "\n",
       "Coefficients:\n",
       "             Estimate Std. Error z value Pr(>|z|)    \n",
       "(Intercept) -10.08491    2.95100  -3.417 0.000632 ***\n",
       "cigs          0.21169    0.03813   5.552 2.83e-08 ***\n",
       "poll          0.13176    0.04895   2.692 0.007113 ** \n",
       "---\n",
       "Signif. codes:  0 ‘***’ 0.001 ‘**’ 0.01 ‘*’ 0.05 ‘.’ 0.1 ‘ ’ 1\n",
       "\n",
       "(Dispersion parameter for binomial family taken to be 1)\n",
       "\n",
       "    Null deviance: 221.78  on 211  degrees of freedom\n",
       "Residual deviance: 174.21  on 209  degrees of freedom\n",
       "AIC: 180.21\n",
       "\n",
       "Number of Fisher Scoring iterations: 5\n"
      ]
     },
     "metadata": {},
     "output_type": "display_data"
    }
   ],
   "source": [
    "summary(model)"
   ]
  },
  {
   "cell_type": "markdown",
   "id": "49d8f08f-a747-47f9-bd65-f849173695a6",
   "metadata": {},
   "source": [
    "# Summary\n",
    "Cigs and Pollution are highly significant since p value is either (p < 0.001 or p < .01). \n",
    "\n",
    "Cigs and poll have estimate that shows that every cig smokes per day, the log-odds of having bronchitis increases by .21169. Pollution is .1376. \n",
    "\n",
    "Residual deviance being lower than null deviance shows that cig and polls fit the data between than the model just being null. \n",
    "\n",
    "Based on everything Cigs and Poll are significant predictors of bronchitis"
   ]
  },
  {
   "cell_type": "markdown",
   "id": "475f0866-730b-4795-ae00-6b8c96cc51f8",
   "metadata": {},
   "source": [
    "I am not doing a fit reduced model since both my predictor variables are significant. "
   ]
  },
  {
   "cell_type": "code",
   "execution_count": 23,
   "id": "541c6e60-86ef-4d46-95a0-c6f9026f0f05",
   "metadata": {
    "tags": []
   },
   "outputs": [],
   "source": [
    "predicted_probabilities_bron <- predict(model, type = \"response\")"
   ]
  },
  {
   "cell_type": "markdown",
   "id": "b35a7c8c-bfc8-4757-b01c-e92c48422111",
   "metadata": {},
   "source": [
    "This will be predicted true or false for bronchitis. Its already trained in the output of true and false for bronchitis so this new line of code is going to make predictions on the data again and attempt to get the bron now without seeing it in the data."
   ]
  },
  {
   "cell_type": "code",
   "execution_count": 26,
   "id": "1006e9e1-74cf-4c36-9835-b7feb87cef8d",
   "metadata": {
    "tags": []
   },
   "outputs": [],
   "source": [
    "threshold <- 0.5\n",
    "predicted_classes <- ifelse(predicted_probabilities_bron > threshold, 1, 0)\n"
   ]
  },
  {
   "cell_type": "markdown",
   "id": "e631ad3c-9268-46e1-8c49-d9a06505464b",
   "metadata": {},
   "source": [
    "Every row is checked and giving a probability percentage and if its above or equal to 50 percent its true and if below its false. Predicted classes grabs from data already established and creates into another data.  "
   ]
  },
  {
   "cell_type": "code",
   "execution_count": 29,
   "id": "178d52fe-347d-48c5-8f8c-272c4c8a17f2",
   "metadata": {
    "tags": []
   },
   "outputs": [
    {
     "name": "stdout",
     "output_type": "stream",
     "text": [
      "         Actual\n",
      "Predicted   0   1\n",
      "        0 156  32\n",
      "        1  10  14\n"
     ]
    }
   ],
   "source": [
    "conf_matrix <- table(Predicted = predicted_classes, Actual = data$bron)\n",
    "print(conf_matrix)\n"
   ]
  },
  {
   "cell_type": "markdown",
   "id": "af51f581-7c92-4b10-9898-e55ee1c4972d",
   "metadata": {},
   "source": [
    "This will check my prediction dataset with actual dataset.  Checking true and false on both for comparison. Displayed is true negatives, true negatives, false positive and false negative. Output here shows 156 true negatives and 14 true positives. 170 correct predictions and 42 wrong predictions. "
   ]
  },
  {
   "cell_type": "code",
   "execution_count": 32,
   "id": "5f109873-ff78-4f05-b0ed-2ea1894f0efd",
   "metadata": {
    "tags": []
   },
   "outputs": [
    {
     "name": "stdout",
     "output_type": "stream",
     "text": [
      "[1] \"Accuracy percentage: 0.80188679245283\"\n"
     ]
    }
   ],
   "source": [
    "accuracy <- sum(diag(conf_matrix)) / sum(conf_matrix)\n",
    "print(paste(\"Accuracy percentage:\", accuracy))"
   ]
  },
  {
   "cell_type": "markdown",
   "id": "f4383622-0a5b-498f-b5b4-a5391557ae1d",
   "metadata": {},
   "source": [
    "170 / 210 = .80188  - 80 percent is a good percentage, however, more than half of true statements are false postives which dont seem good to me. "
   ]
  },
  {
   "cell_type": "code",
   "execution_count": 47,
   "id": "c59c12f6-01ba-4f5c-ba57-03dc79938e96",
   "metadata": {
    "tags": []
   },
   "outputs": [
    {
     "name": "stdout",
     "output_type": "stream",
     "text": [
      "\n",
      "The downloaded binary packages are in\n",
      "\t/var/folders/rd/jfxc79756t9g0g5f4ytyb6l40000gn/T//RtmpYbrr7l/downloaded_packages\n",
      "\n",
      "The downloaded binary packages are in\n",
      "\t/var/folders/rd/jfxc79756t9g0g5f4ytyb6l40000gn/T//RtmpYbrr7l/downloaded_packages\n"
     ]
    }
   ],
   "source": [
    "install.packages(\"lattice\")\n",
    "install.packages(\"caret\")"
   ]
  },
  {
   "cell_type": "code",
   "execution_count": 50,
   "id": "4bb4defd-6f7c-4825-a567-a723f9b5d89d",
   "metadata": {
    "tags": []
   },
   "outputs": [],
   "source": [
    "library(lattice)\n",
    "library(caret)\n"
   ]
  },
  {
   "cell_type": "code",
   "execution_count": 52,
   "id": "2c2cf14c-10c9-4543-a802-54914105e3d9",
   "metadata": {
    "tags": []
   },
   "outputs": [
    {
     "name": "stdout",
     "output_type": "stream",
     "text": [
      "Confusion Matrix and Statistics\n",
      "\n",
      "          Reference\n",
      "Prediction   0   1\n",
      "         0 156  32\n",
      "         1  10  14\n",
      "                                          \n",
      "               Accuracy : 0.8019          \n",
      "                 95% CI : (0.7418, 0.8533)\n",
      "    No Information Rate : 0.783           \n",
      "    P-Value [Acc > NIR] : 0.283466        \n",
      "                                          \n",
      "                  Kappa : 0.2951          \n",
      "                                          \n",
      " Mcnemar's Test P-Value : 0.001194        \n",
      "                                          \n",
      "            Sensitivity : 0.9398          \n",
      "            Specificity : 0.3043          \n",
      "         Pos Pred Value : 0.8298          \n",
      "         Neg Pred Value : 0.5833          \n",
      "             Prevalence : 0.7830          \n",
      "         Detection Rate : 0.7358          \n",
      "   Detection Prevalence : 0.8868          \n",
      "      Balanced Accuracy : 0.6221          \n",
      "                                          \n",
      "       'Positive' Class : 0               \n",
      "                                          \n"
     ]
    }
   ],
   "source": [
    "confusion_matrix <- confusionMatrix(as.factor(predicted_classes), as.factor(data$bron))\n",
    "print(confusion_matrix)"
   ]
  },
  {
   "cell_type": "markdown",
   "id": "f56e3d84-2cc8-4367-84e5-f5c38736f77f",
   "metadata": {},
   "source": [
    "95% Confidence rate is between 74 percent to 85 percent. My model is 80.19% and No information Rate is 78 percent. Which means model is slighty higher than NIR. NIR is going to predict only non bron cases. Model is slighty better \n",
    "\n",
    "Mcnemar's Test P-Value : 0.001194  False positive is 10 and false negative is 32 which means that their is a high imbalance between between false positives and false negatives. "
   ]
  },
  {
   "cell_type": "markdown",
   "id": "d7945a93-eede-4f4f-98ab-8a7d56a00c84",
   "metadata": {},
   "source": [
    "P - Value = .2834. Since this is higher than .05. I reject that my models accuracy is better than NIR.  "
   ]
  },
  {
   "cell_type": "markdown",
   "id": "1b94434f-b28b-463b-910b-19e3c38ba6f1",
   "metadata": {},
   "source": [
    " Kappa : 0.2951 = this is fair aggreement between models predictions are the actual claffications. Which means that our model is slightly better than chance.\n",
    " \n",
    " \n",
    "'Positive' Class : 0 = No Bron\n",
    "\n",
    "Sensitivity being .9398 means my model is very good at measuring the proportion of no bronchities cases which were correctly identified as not having bronchitis. \n",
    "\n",
    "Specificity being .3043 means my model is not good at identifying patients that do have bronchitis. \n",
    "\n",
    "positive predictions of no bron cases is .8298 and negative prediction is .5833. Appears my model is better at predicted no bron and is barely over 50 percent at predicting cases where their is bronchitis. This shows that my model is good at predicting no bron and not very good at bron. "
   ]
  },
  {
   "cell_type": "markdown",
   "id": "bf6b6877-dcdb-4a5b-bdf4-55baa3055e6d",
   "metadata": {},
   "source": [
    "Prevalence : 0.7830          \n",
    "Detection Rate : 0.7358          \n",
    "Detection Prevalence : 0.8868          \n",
    "Balanced Accuracy : 0.6221   \n",
    "\n",
    "78 percent of my cases are no bron. 73 percent of my data predicted was in fact no bron. 88 precent of my cases were predicted as no bron.  \n",
    "\n",
    "62 percent of balanced accuracy. This takes  Sensitivity : 0.9398 and Specificity : 0.3043 and divides this by 2. so it predicts 62 percent of true postive and negative cases of no bron. "
   ]
  },
  {
   "cell_type": "markdown",
   "id": "93b9a3f0-99ac-4e88-91d1-78e757ae7ffe",
   "metadata": {},
   "source": [
    "# 2. 25 students aspiring to enter to Computer Science have been evaluated on 5 different subjects: Differential Geometry (DifGeo), Complex Analysis (CompAn), Algebra (Alg), Real Analysis (RealAn) and Statistics (Stat).\n",
    "\n",
    "These were the obtained scores:\n",
    "ID DifGeo CompAn Alg RealAn Stat\n",
    "ST-01 36 58 43 36 37\n",
    "ST-02 62 54 50 46 52\n",
    "ST-03 31 42 41 40 29\n",
    "ST-04 76 78 69 66 81\n",
    "ST-05 46 56 52 56 40\n",
    "ST-06 12 42 38 38 28\n",
    "ST-07 39 46 51 54 41\n",
    "ST-08 30 51 54 52 32\n",
    "ST-09 22 32 43 28 22\n",
    "ST-10 9 40 47 30 24\n",
    "ST-11 32 49 54 37 52\n",
    "ST-12 40 62 51 40 49\n",
    "ST-13 64 75 70 66 63\n",
    "ST-14 36 38 58 62 62\n",
    "ST-15 24 46 44 55 49\n",
    "ST-16 50 50 54 52 51\n",
    "ST-17 42 42 52 38 50\n",
    "ST-18 2 35 32 22 16\n",
    "ST-19 56 53 42 40 32\n",
    "ST-20 59 72 70 66 62\n",
    "ST-21 28 50 50 42 63\n",
    "ST-22 19 46 49 40 30\n",
    "ST-23 36 56 56 54 52\n",
    "ST-24 54 57 59 62 58\n",
    "ST-25 14 35 38 29 20\n",
    "\n",
    "The objective of this study is to obtain a global ranking of students for entry into the Computer\n",
    "Science, through a global score, extracted as a certain linear combination of grades in the five\n",
    "subjects tested. Use PCA to obtain that global score, sort the candidates and generate a formula to\n",
    "evaluate future candidates. "
   ]
  },
  {
   "cell_type": "code",
   "execution_count": null,
   "id": "1092a4a5-ee0b-4442-b7d1-aa38a64e4e13",
   "metadata": {},
   "outputs": [],
   "source": []
  }
 ],
 "metadata": {
  "kernelspec": {
   "display_name": "R",
   "language": "R",
   "name": "ir"
  },
  "language_info": {
   "codemirror_mode": "r",
   "file_extension": ".r",
   "mimetype": "text/x-r-source",
   "name": "R",
   "pygments_lexer": "r",
   "version": "4.4.0"
  }
 },
 "nbformat": 4,
 "nbformat_minor": 5
}
